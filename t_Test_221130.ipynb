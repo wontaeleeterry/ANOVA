{
 "cells": [
  {
   "cell_type": "code",
   "execution_count": 1,
   "id": "d5ac809a",
   "metadata": {},
   "outputs": [
    {
     "data": {
      "text/plain": [
       "ShapiroResult(statistic=0.9784069657325745, pvalue=0.970873236656189)"
      ]
     },
     "execution_count": 1,
     "metadata": {},
     "output_type": "execute_result"
    }
   ],
   "source": [
    "# 출처 : 파이썬 데이터 분석(중급)\n",
    "# 6강 - 두 모평균의 비교 및 두 범주형 변수 관계 파악\n",
    "\n",
    "# 독립표본에 의한 두 모평균의 비교\n",
    "# 독립표본 t-검정\n",
    "# 서로 독립적인 2개의 집단의 모평균에 유의미한 차이가 있는지를 확인\n",
    "\n",
    "# 일 평균 스마트 폰 사용 시간이 성별에 따른 차이가 있는가?\n",
    "# 동아리 활동 여부에 따라 학교 생활 만족도에 차이가 있는가?\n",
    "\n",
    "x1 = [44, 44, 56, 46, 47, 38, 58, 53, 49, 35, 46, 30, 41]\n",
    "x2 = [35, 47, 55, 29, 40, 39, 32, 41, 42, 57, 51, 39]\n",
    "\n",
    "# x1, x2 조건에서 제품의 생산량을 가정\n",
    "\n",
    "from scipy.stats import shapiro, levene\n",
    "\n",
    "# 정규성 확인\n",
    "\n",
    "shapiro(x1)\n",
    "\n",
    "# p-value > 0.05 으로 자료가 정규성을 만족한다는 것을 확인"
   ]
  },
  {
   "cell_type": "code",
   "execution_count": 2,
   "id": "1f35a67f",
   "metadata": {},
   "outputs": [
    {
     "data": {
      "text/plain": [
       "ShapiroResult(statistic=0.9537354707717896, pvalue=0.6920616030693054)"
      ]
     },
     "execution_count": 2,
     "metadata": {},
     "output_type": "execute_result"
    }
   ],
   "source": [
    "shapiro(x2)"
   ]
  },
  {
   "cell_type": "code",
   "execution_count": 3,
   "id": "1ebc3be6",
   "metadata": {},
   "outputs": [
    {
     "data": {
      "text/plain": [
       "LeveneResult(statistic=0.09230190178073239, pvalue=0.7640023844571427)"
      ]
     },
     "execution_count": 3,
     "metadata": {},
     "output_type": "execute_result"
    }
   ],
   "source": [
    "# 등분산 가정을 확인\n",
    "# p-value > 0.05 으로 등분산 가정을 만족\n",
    "\n",
    "levene(x1, x2)"
   ]
  },
  {
   "cell_type": "code",
   "execution_count": null,
   "id": "86e7ddf4",
   "metadata": {},
   "outputs": [],
   "source": [
    "# ttest_ind 진행 시,\n",
    "# : levene 검정을 통해ㅐ 독립인 두 집단의 자료가 \n",
    "# 독립인 경우, equal_var 옵션에 True 를 입력하고,\n",
    "# 독립이 아닌 경우, Falsef 를 입력하낟.\n",
    "\n",
    "# 여기서 True 인 경우는 디폴트 형태이기 때문에,\n",
    "# 두 집단의 자료가 독립인 경우에는 입력하지 않음"
   ]
  },
  {
   "cell_type": "code",
   "execution_count": 4,
   "id": "991ed9cb",
   "metadata": {},
   "outputs": [
    {
     "data": {
      "text/plain": [
       "Ttest_indResult(statistic=0.8675501422139809, pvalue=0.39460232464127154)"
      ]
     },
     "execution_count": 4,
     "metadata": {},
     "output_type": "execute_result"
    }
   ],
   "source": [
    "from scipy.stats import ttest_ind\n",
    "\n",
    "ttest_ind(x1, x2, equal_var =True, alternative='two-sided')\n",
    "\n",
    "# 차이가 있는지만 확인하는 것으로 양측 검정을 수행한다.\n",
    "\n",
    "# p-value > 0.05 보다 훨씬 크다.\n",
    "# 귀무가설을 기각할 수 없음 -> \"x1 과 x2 조건에서 생산량은 통계적 차이가 없다.\"\n",
    "# (귀무가설 H0 : u1 = u2)"
   ]
  },
  {
   "cell_type": "code",
   "execution_count": 5,
   "id": "8f7d248e",
   "metadata": {},
   "outputs": [
    {
     "data": {
      "text/plain": [
       "Ttest_indResult(statistic=0.8675501422139809, pvalue=0.19730116232063577)"
      ]
     },
     "execution_count": 5,
     "metadata": {},
     "output_type": "execute_result"
    }
   ],
   "source": [
    "# 양측 검정 - H0 : u1 = u2 / H1 : u1 not u2\n",
    "# 단측 검정 - H0 : u1 = u2 / H1 : u1 > u2\n",
    "\n",
    "ttest_ind(x1, x2, alternative='greater')\n",
    "\n",
    "# 단측 검정을 수행하면,\n",
    "# p-value > 0.05 이므로, 귀무가설을 기각할 수 없음.\n",
    "# x1 조건에 의한 생산량이 x2 조건의 생산량 보다 크지 않음"
   ]
  },
  {
   "cell_type": "code",
   "execution_count": 9,
   "id": "fbcad0c0",
   "metadata": {},
   "outputs": [],
   "source": [
    "# 대응표본 t-검정\n",
    "\n",
    "# 두 모평균 비교에 있어서 두 모집단이 서로 독립이 아닌 경우,\n",
    "# 실험 단위를 동질적인 쌍으로 묶은 다음 각 쌍을 임의로 추출하여 \n",
    "# 통계적으로 비교하는 방법\n",
    "\n",
    "# d1 = X1 - Y1, d2 = X2 - Y2...\n",
    "# 귀무가설 (H0) : ud = 0을 검정하기 위한 문제로\n",
    "# 단일 모집단 평균 검정 방법과 동일한 문제가 된다.\n",
    "\n",
    "# 사전/사후 데이터 -> 동일한 대상이므로 데이터가 독립이 아니다.\n",
    "\n",
    "\n",
    "# 약물 복용 전 혈압\n",
    "x1 = [70, 80, 72, 76, 76, 76, 72, 78, 82, 64, 74, 92, 74, 68, 84]\n",
    "\n",
    "# 약물 복용 후 혈압(변화)\n",
    "x2 = [68, 72, 62, 70, 58, 66, 68, 52, 64, 72, 74, 60, 74, 72, 74]"
   ]
  },
  {
   "cell_type": "code",
   "execution_count": 10,
   "id": "1f0a4274",
   "metadata": {},
   "outputs": [
    {
     "data": {
      "text/plain": [
       "ShapiroResult(statistic=0.9687387943267822, pvalue=0.8389564752578735)"
      ]
     },
     "execution_count": 10,
     "metadata": {},
     "output_type": "execute_result"
    }
   ],
   "source": [
    "# 정규성 검증\n",
    "shapiro(x1)\n",
    "\n",
    "# p-value > 0.05 이므로 정규성을 가진다."
   ]
  },
  {
   "cell_type": "code",
   "execution_count": 11,
   "id": "57e13b4b",
   "metadata": {},
   "outputs": [
    {
     "data": {
      "text/plain": [
       "ShapiroResult(statistic=0.9007810354232788, pvalue=0.097824327647686)"
      ]
     },
     "execution_count": 11,
     "metadata": {},
     "output_type": "execute_result"
    }
   ],
   "source": [
    "shapiro(x2)"
   ]
  },
  {
   "cell_type": "code",
   "execution_count": 12,
   "id": "4a7b435b",
   "metadata": {},
   "outputs": [
    {
     "data": {
      "text/plain": [
       "Ttest_relResult(statistic=3.105360487466109, pvalue=0.007749436106654119)"
      ]
     },
     "execution_count": 12,
     "metadata": {},
     "output_type": "execute_result"
    }
   ],
   "source": [
    "# 약물 복용 전 후 차이가 없다는 귀무가설을 검정\n",
    "\n",
    "from scipy.stats import ttest_rel\n",
    "\n",
    "ttest_rel(x1, x2)\n",
    "\n",
    "# p-value < 0.05 이므로,\n",
    "# 귀무가설은 기각되고, \"약물 복용 전후 혈압은 유의수준 0.05에서 차이가 존재한다. \""
   ]
  },
  {
   "cell_type": "code",
   "execution_count": 13,
   "id": "20170651",
   "metadata": {},
   "outputs": [
    {
     "data": {
      "text/plain": [
       "Ttest_relResult(statistic=3.105360487466109, pvalue=0.0038747180533270594)"
      ]
     },
     "execution_count": 13,
     "metadata": {},
     "output_type": "execute_result"
    }
   ],
   "source": [
    "# 약물 복용 이후 혈압이 낮아지는지를 검정하면,\n",
    "\n",
    "ttest_rel(x1, x2, alternative='greater') # x1 > x2라는 대립 가설 검정\n",
    "\n",
    "# 약물 복용 전(x1)이 약물 복용 후(x2) 보다 혈압이 크다는 대립 가설을 검정\n",
    "# p-value < 0.05 이므로, 귀무가설 기각 --> 대립가설 채택\n",
    "# \"유의수준 0.05에서 혈압 강하가 일어난다.\""
   ]
  },
  {
   "cell_type": "code",
   "execution_count": 14,
   "id": "e33a75c3",
   "metadata": {},
   "outputs": [
    {
     "data": {
      "text/plain": [
       "Ttest_relResult(statistic=3.105360487466109, pvalue=0.9961252819466729)"
      ]
     },
     "execution_count": 14,
     "metadata": {},
     "output_type": "execute_result"
    }
   ],
   "source": [
    "# 추가로 반대로 높아지는지를 검정한다면 ?\n",
    "\n",
    "ttest_rel(x1, x2, alternative='less')  # x1 < x2"
   ]
  },
  {
   "cell_type": "code",
   "execution_count": 15,
   "id": "54b556a8",
   "metadata": {},
   "outputs": [
    {
     "data": {
      "text/plain": [
       "Ttest_relResult(statistic=-3.105360487466109, pvalue=0.9961252819466729)"
      ]
     },
     "execution_count": 15,
     "metadata": {},
     "output_type": "execute_result"
    }
   ],
   "source": [
    "# 추가로 반대로 높아지는지를 검정한다면 ? \n",
    "\n",
    "ttest_rel(x2, x1, alternative='greater')  # x1 < x2"
   ]
  }
 ],
 "metadata": {
  "kernelspec": {
   "display_name": "[base]",
   "language": "python",
   "name": "base"
  },
  "language_info": {
   "codemirror_mode": {
    "name": "ipython",
    "version": 3
   },
   "file_extension": ".py",
   "mimetype": "text/x-python",
   "name": "python",
   "nbconvert_exporter": "python",
   "pygments_lexer": "ipython3",
   "version": "3.9.13"
  }
 },
 "nbformat": 4,
 "nbformat_minor": 5
}
