{
 "cells": [
  {
   "cell_type": "code",
   "execution_count": 16,
   "id": "a8aa62aa",
   "metadata": {},
   "outputs": [
    {
     "data": {
      "text/plain": [
       "array([[243.,   1.],\n",
       "       [251.,   1.],\n",
       "       [275.,   1.],\n",
       "       [291.,   1.],\n",
       "       [347.,   1.],\n",
       "       [354.,   1.],\n",
       "       [380.,   1.],\n",
       "       [392.,   1.],\n",
       "       [206.,   2.],\n",
       "       [210.,   2.],\n",
       "       [226.,   2.],\n",
       "       [249.,   2.],\n",
       "       [255.,   2.],\n",
       "       [273.,   2.],\n",
       "       [285.,   2.],\n",
       "       [295.,   2.],\n",
       "       [309.,   2.],\n",
       "       [241.,   3.],\n",
       "       [258.,   3.],\n",
       "       [270.,   3.],\n",
       "       [293.,   3.],\n",
       "       [328.,   3.]])"
      ]
     },
     "execution_count": 16,
     "metadata": {},
     "output_type": "execute_result"
    }
   ],
   "source": [
    "# 일원분산분석 (One-way ANOVA)\n",
    "# 출처 : https://partrita.github.io/posts/ANOVA-python/\n",
    "\n",
    "import numpy as np\n",
    "import urllib\n",
    "import matplotlib.pyplot as plt\n",
    "\n",
    "# url로 데이터 읽어오기\n",
    "url = 'https://raw.githubusercontent.com/thomas-haslwanter/statsintro_python/master/ipynb/Data/data_altman/altman_910.txt'\n",
    "data = np.genfromtxt(urllib.request.urlopen(url), delimiter=',')\n",
    "\n",
    "x1 = data[data[:,1] == 1,0]\n",
    "x2 = data[data[:,1] == 2,0]\n",
    "x3 = data[data[:,1] == 3,0]\n",
    "\n",
    "data"
   ]
  },
  {
   "cell_type": "code",
   "execution_count": 17,
   "id": "afaa3b91",
   "metadata": {},
   "outputs": [
    {
     "data": {
      "image/png": "[encoded data removed]",
      "text/plain": [
       "<Figure size 640x480 with 1 Axes>"
      ]
     },
     "metadata": {},
     "output_type": "display_data"
    }
   ],
   "source": [
    "# matplot\n",
    "plot_data = [x1, x2, x3]\n",
    "\n",
    "plot_data\n",
    "\n",
    "plt.boxplot(plot_data)\n",
    "plt.show()"
   ]
  },
  {
   "cell_type": "code",
   "execution_count": null,
   "id": "41d4458e",
   "metadata": {},
   "outputs": [],
   "source": [
    "# f_oneway() 함수를 이용한 ANOVA 분석은 각 집단별로\n",
    "# 차이가 있는지 여부만 확인할 수 있을 뿐 어떤 집단과 어떤 집단에\n",
    "# 차이가 있는지는 확인이 불가능하다. (221130)"
   ]
  },
  {
   "cell_type": "code",
   "execution_count": 18,
   "id": "63b9342b",
   "metadata": {},
   "outputs": [],
   "source": [
    "from scipy.stats import f_oneway\n",
    "\n",
    "F_statistic, pVal = f_oneway(x1, x2, x3)"
   ]
  },
  {
   "cell_type": "code",
   "execution_count": 19,
   "id": "9a76fe21",
   "metadata": {},
   "outputs": [
    {
     "data": {
      "text/plain": [
       "3.7113359882669763"
      ]
     },
     "execution_count": 19,
     "metadata": {},
     "output_type": "execute_result"
    }
   ],
   "source": [
    "F_statistic"
   ]
  },
  {
   "cell_type": "code",
   "execution_count": 20,
   "id": "4b8ba588",
   "metadata": {},
   "outputs": [
    {
     "data": {
      "text/plain": [
       "0.043589334959178244"
      ]
     },
     "execution_count": 20,
     "metadata": {},
     "output_type": "execute_result"
    }
   ],
   "source": [
    "pVal"
   ]
  },
  {
   "cell_type": "code",
   "execution_count": 21,
   "id": "89e2cd2a",
   "metadata": {},
   "outputs": [],
   "source": [
    "# p-value < 0.05 이므로 그룹의 각 평균값이 통계적으로 유의미한 차이가 있다.\n",
    "# H0 : u1 = u2 = u3 --> 귀무가설은 기각된다.\n",
    "# \"적어도 1개는 평균값에 통계적으로 유의미한 차이가 있다.\"로 해석된다. (221130)"
   ]
  },
  {
   "cell_type": "code",
   "execution_count": null,
   "id": "a052e8ab",
   "metadata": {},
   "outputs": [],
   "source": [
    "# statsmodels.formula.api 모듈을 활용\n",
    "# 연속형 변수인 반응변수(value)와 그룹 변수(treatment)이 요인을 활용한 회귀모형을 생성\n",
    "# -> 분산분석 표 및 가설검증을 확인하기 위한 함수에 적용"
   ]
  },
  {
   "cell_type": "code",
   "execution_count": 30,
   "id": "806a395e",
   "metadata": {},
   "outputs": [
    {
     "data": {
      "text/html": [
       "<div>\n",
       "<style scoped>\n",
       "    .dataframe tbody tr th:only-of-type {\n",
       "        vertical-align: middle;\n",
       "    }\n",
       "\n",
       "    .dataframe tbody tr th {\n",
       "        vertical-align: top;\n",
       "    }\n",
       "\n",
       "    .dataframe thead th {\n",
       "        text-align: right;\n",
       "    }\n",
       "</style>\n",
       "<table border=\"1\" class=\"dataframe\">\n",
       "  <thead>\n",
       "    <tr style=\"text-align: right;\">\n",
       "      <th></th>\n",
       "      <th>value</th>\n",
       "      <th>treatment</th>\n",
       "    </tr>\n",
       "  </thead>\n",
       "  <tbody>\n",
       "    <tr>\n",
       "      <th>0</th>\n",
       "      <td>243.0</td>\n",
       "      <td>1.0</td>\n",
       "    </tr>\n",
       "    <tr>\n",
       "      <th>1</th>\n",
       "      <td>251.0</td>\n",
       "      <td>1.0</td>\n",
       "    </tr>\n",
       "    <tr>\n",
       "      <th>2</th>\n",
       "      <td>275.0</td>\n",
       "      <td>1.0</td>\n",
       "    </tr>\n",
       "    <tr>\n",
       "      <th>3</th>\n",
       "      <td>291.0</td>\n",
       "      <td>1.0</td>\n",
       "    </tr>\n",
       "    <tr>\n",
       "      <th>4</th>\n",
       "      <td>347.0</td>\n",
       "      <td>1.0</td>\n",
       "    </tr>\n",
       "  </tbody>\n",
       "</table>\n",
       "</div>"
      ],
      "text/plain": [
       "   value  treatment\n",
       "0  243.0        1.0\n",
       "1  251.0        1.0\n",
       "2  275.0        1.0\n",
       "3  291.0        1.0\n",
       "4  347.0        1.0"
      ]
     },
     "execution_count": 30,
     "metadata": {},
     "output_type": "execute_result"
    }
   ],
   "source": [
    "# 회귀모형 생성 : ols().fit() 함수 이용\n",
    "\n",
    "# from statsmodels.formmula.api import ols\n",
    "# 객체명 = ols(\"반응변수 ~ 인자\", data = DataFrame 객체).fit()\n",
    "# 객체명.summary()\n",
    "\n",
    "# 주의.\n",
    "# 그룹 변수명이 문자형이 아닌 경우 입력 시 유의사항\n",
    "# 그룹 변수명이 연속형이거나 이산형인 경우 C()에 변수명을 넣어서 --- 인덱스로 변경하던지\n",
    "# 그룹 변수가 범주형 자료로 인식하도록 변경시켜주어야 함 (221130)\n",
    "\n",
    "from statsmodels.formula.api import ols\n",
    "import pandas as pd\n",
    "\n",
    "df = pd.DataFrame(data, columns=['value', 'treatment'])\n",
    "df.head()"
   ]
  },
  {
   "cell_type": "code",
   "execution_count": 31,
   "id": "53daaa13",
   "metadata": {},
   "outputs": [
    {
     "name": "stdout",
     "output_type": "stream",
     "text": [
      "                            OLS Regression Results                            \n",
      "==============================================================================\n",
      "Dep. Variable:                  value   R-squared:                       0.281\n",
      "Model:                            OLS   Adj. R-squared:                  0.205\n",
      "Method:                 Least Squares   F-statistic:                     3.711\n",
      "Date:                Wed, 30 Nov 2022   Prob (F-statistic):             0.0436\n",
      "Time:                        11:50:43   Log-Likelihood:                -113.70\n",
      "No. Observations:                  22   AIC:                             233.4\n",
      "Df Residuals:                      19   BIC:                             236.7\n",
      "Df Model:                           2                                         \n",
      "Covariance Type:            nonrobust                                         \n",
      "=======================================================================================\n",
      "                          coef    std err          t      P>|t|      [0.025      0.975]\n",
      "---------------------------------------------------------------------------------------\n",
      "Intercept             316.6250     16.164     19.588      0.000     282.792     350.458\n",
      "C(treatment)[T.2.0]   -60.1806     22.216     -2.709      0.014    -106.679     -13.682\n",
      "C(treatment)[T.3.0]   -38.6250     26.064     -1.482      0.155     -93.178      15.928\n",
      "==============================================================================\n",
      "Omnibus:                        2.618   Durbin-Watson:                   0.819\n",
      "Prob(Omnibus):                  0.270   Jarque-Bera (JB):                1.189\n",
      "Skew:                           0.021   Prob(JB):                        0.552\n",
      "Kurtosis:                       1.862   Cond. No.                         3.69\n",
      "==============================================================================\n",
      "\n",
      "Notes:\n",
      "[1] Standard Errors assume that the covariance matrix of the errors is correctly specified.\n"
     ]
    }
   ],
   "source": [
    "formula = 'value~C(treatment)' # 그룹 변수명이 연속형이거나 이산형인 경우, C()에 변수명을 넣어야 한다.\n",
    "model = ols(formula, df).fit()\n",
    "\n",
    "print(model.summary())"
   ]
  },
  {
   "cell_type": "code",
   "execution_count": 33,
   "id": "e2cfb7e2",
   "metadata": {},
   "outputs": [
    {
     "name": "stdout",
     "output_type": "stream",
     "text": [
      "                df        sum_sq      mean_sq         F    PR(>F)\n",
      "C(treatment)   2.0  15515.766414  7757.883207  3.711336  0.043589\n",
      "Residual      19.0  39716.097222  2090.320906       NaN       NaN\n"
     ]
    }
   ],
   "source": [
    "# 분산 분석표\n",
    "\n",
    "from statsmodels.stats.anova import anova_lm\n",
    "\n",
    "print(anova_lm(model))"
   ]
  },
  {
   "cell_type": "code",
   "execution_count": 34,
   "id": "6bbd6c30",
   "metadata": {},
   "outputs": [
    {
     "name": "stdout",
     "output_type": "stream",
     "text": [
      " Multiple Comparison of Means - Tukey HSD, FWER=0.05  \n",
      "======================================================\n",
      "group1 group2 meandiff p-adj    lower    upper  reject\n",
      "------------------------------------------------------\n",
      "   1.0    2.0 -60.1806 0.0355  -116.619 -3.7421   True\n",
      "   1.0    3.0  -38.625 0.3215 -104.8404 27.5904  False\n",
      "   2.0    3.0  21.5556 0.6802  -43.2295 86.3406  False\n",
      "------------------------------------------------------\n"
     ]
    }
   ],
   "source": [
    "# 사후분석 (Post Hoc Analysis)\n",
    "\n",
    "# p-value를 통해 통계적으로 유의한 차가 있다는 것을 확인했으나,\n",
    "# 구체적으로 어떤 집단간 차이가 있는지 확인할 수 없다. -> 사후 검정의 필요성\n",
    "\n",
    "from statsmodels.stats.multicomp import pairwise_tukeyhsd\n",
    "\n",
    "post_hoc = pairwise_tukeyhsd(df['value'], df['treatment'], alpha=0.05)  # alpha 유의수준\n",
    "\n",
    "print(post_hoc)"
   ]
  },
  {
   "cell_type": "code",
   "execution_count": 35,
   "id": "36e54e72",
   "metadata": {},
   "outputs": [
    {
     "name": "stdout",
     "output_type": "stream",
     "text": [
      "Figure(1000x600)\n"
     ]
    },
    {
     "data": {
      "image/png": "[encoded data removed]",
      "text/plain": [
       "<Figure size 1000x600 with 1 Axes>"
      ]
     },
     "metadata": {},
     "output_type": "display_data"
    }
   ],
   "source": [
    "# 반응변수 : value / 인자 : treatment\n",
    "# 그룹 1(x1)과 그룹 2(x2)에서만 통계적인 유의미성(p-value < 0.05)을 가질 수 있는 것을 확인 (221130)\n",
    "\n",
    "print(post_hoc.plot_simultaneous())  # 사후 분석 결과를 그림으로 출력"
   ]
  },
  {
   "cell_type": "code",
   "execution_count": null,
   "id": "260c1699",
   "metadata": {},
   "outputs": [],
   "source": [
    "# 1-2 그룹은 겹치는 부분이 없으나,\n",
    "# 2-3 그룹은 대부분이 겹치고, 1-3은 절만 정도가 겹치는 것을 그래프로 확인할 수 있다.\n",
    "\n",
    "# 분산분석(ANOVA)를 통해 3가지 그룹간에 통계적인 차이가 있다는 것을 증명했고,\n",
    "# 사후검정을 통해 그룹 1과 2의 \"평균\"이 유의미한 차이가 있다는 것을 확인했다.\n",
    "\n",
    "\n",
    "# Q : plot_simultaneous() 나타내는 결과의 의미는? boxplot으로 나타내는 것과 차이점?"
   ]
  }
 ],
 "metadata": {
  "kernelspec": {
   "display_name": "[base]",
   "language": "python",
   "name": "base"
  },
  "language_info": {
   "codemirror_mode": {
    "name": "ipython",
    "version": 3
   },
   "file_extension": ".py",
   "mimetype": "text/x-python",
   "name": "python",
   "nbconvert_exporter": "python",
   "pygments_lexer": "ipython3",
   "version": "3.9.13"
  }
 },
 "nbformat": 4,
 "nbformat_minor": 5
}
